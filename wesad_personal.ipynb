{
 "cells": [
  {
   "cell_type": "code",
   "execution_count": 1,
   "id": "ba9deb0b-db26-428c-aed6-3314e8197b28",
   "metadata": {},
   "outputs": [],
   "source": [
    "# !cp -r /home/intern_lhj/stress_publish/WESAD/ ./"
   ]
  },
  {
   "cell_type": "code",
   "execution_count": 16,
   "id": "57c86454-e583-4388-b91d-05aeb21179fb",
   "metadata": {},
   "outputs": [],
   "source": [
    "import pickle\n",
    "import numpy as np\n",
    "import matplotlib.pyplot as plt\n",
    "import pandas as pd\n",
    "from tqdm.notebook import tqdm\n",
    "from fffff import *\n",
    "import random"
   ]
  },
  {
   "cell_type": "code",
   "execution_count": 4,
   "id": "1a74466e-ea9c-46fa-ab4d-bbfb5adb8a84",
   "metadata": {},
   "outputs": [
    {
     "name": "stdout",
     "output_type": "stream",
     "text": [
      "loading train dataset\n"
     ]
    },
    {
     "data": {
      "application/vnd.jupyter.widget-view+json": {
       "model_id": "6b64710f2458478280403e0c7bd4976a",
       "version_major": 2,
       "version_minor": 0
      },
      "text/plain": [
       "  0%|          | 0/15 [00:00<?, ?it/s]"
      ]
     },
     "metadata": {},
     "output_type": "display_data"
    }
   ],
   "source": [
    "\n",
    "subjects = [2,3,4,5,6,7,8,9,10,11,13,14,15,16,17]\n",
    "\n",
    "all_df_dict = dict()\n",
    "print(f'loading train dataset')\n",
    "for subject in tqdm(subjects):\n",
    "    pkl = f'WESAD/S{subject}/S{subject}.pkl'\n",
    "    all_df_dict[subject] = pickle.load(open(pkl, 'rb'), encoding = 'latin1')"
   ]
  },
  {
   "cell_type": "code",
   "execution_count": 5,
   "id": "7ca39bbc-2c21-441c-a6bd-fe13cb730f21",
   "metadata": {},
   "outputs": [
    {
     "data": {
      "text/plain": [
       "dict_keys(['signal', 'label', 'subject'])"
      ]
     },
     "execution_count": 5,
     "metadata": {},
     "output_type": "execute_result"
    }
   ],
   "source": [
    "all_df_dict[2].keys()"
   ]
  },
  {
   "cell_type": "code",
   "execution_count": 6,
   "id": "c0a9a43c-ad06-4db9-9eb6-3948c2077e68",
   "metadata": {},
   "outputs": [
    {
     "data": {
      "text/plain": [
       "(dict_keys(['ACC', 'ECG', 'EMG', 'EDA', 'Temp', 'Resp']),\n",
       " dict_keys(['ACC', 'BVP', 'EDA', 'TEMP']))"
      ]
     },
     "execution_count": 6,
     "metadata": {},
     "output_type": "execute_result"
    }
   ],
   "source": [
    "all_df_dict[2]['signal']['chest'].keys(), all_df_dict[2]['signal']['wrist'].keys()"
   ]
  },
  {
   "cell_type": "code",
   "execution_count": 7,
   "id": "cb9f33a7-da75-4a46-b011-8106f2034430",
   "metadata": {},
   "outputs": [],
   "source": [
    "ecg_label = dict()\n",
    "for k, v in all_df_dict.items():\n",
    "    ecg_label[k] = pd.DataFrame({'ecg' : v['signal']['chest']['ECG'].squeeze(), 'label' : v['label']})\n",
    "    \n",
    "for key in ecg_label.keys():\n",
    "    ecg_label[key] = ecg_label[key][ecg_label[key]['label'].isin([1,2,3])]"
   ]
  },
  {
   "cell_type": "code",
   "execution_count": null,
   "id": "96cbb3ec-3558-4f8f-a100-46189b7ee9fa",
   "metadata": {},
   "outputs": [],
   "source": []
  },
  {
   "cell_type": "code",
   "execution_count": 8,
   "id": "d50a7fdc-3d5c-485f-9015-d311bb69679b",
   "metadata": {},
   "outputs": [
    {
     "data": {
      "text/plain": [
       "<AxesSubplot: >"
      ]
     },
     "execution_count": 8,
     "metadata": {},
     "output_type": "execute_result"
    },
    {
     "data": {
      "image/png": "[encoded data removed]",
      "text/plain": [
       "<Figure size 640x480 with 1 Axes>"
      ]
     },
     "metadata": {},
     "output_type": "display_data"
    }
   ],
   "source": [
    "ecg_label[2].reset_index(drop = True).plot()"
   ]
  },
  {
   "cell_type": "code",
   "execution_count": null,
   "id": "569454a4-ef8d-4e93-8230-0542b467a17d",
   "metadata": {},
   "outputs": [],
   "source": []
  },
  {
   "cell_type": "code",
   "execution_count": 9,
   "id": "1581cfb9-290c-40d4-8bf4-5e910dd4f004",
   "metadata": {},
   "outputs": [],
   "source": [
    "# baseline, stress, amusement\n",
    "\n",
    "result_dict = dict()\n",
    "\n",
    "for label in [1, 2]:\n",
    "    for sec in [30, 20, 10]:\n",
    "        hr = list()\n",
    "        rmssd = list()\n",
    "        sdnn = list()\n",
    "        frequency_ratio = list()\n",
    "        sdratio = list()\n",
    "        for key, val in ecg_label.items():\n",
    "            data = val[val['label'] == label]\n",
    "            for i in range(0, len(data)-700*sec, sec*700):\n",
    "                try:\n",
    "                    rpeaks = nk_rpeaks(data['ecg'].iloc[i : i + sec*7000], 700)['rpeaks']\n",
    "                    hrv_time = pyhrv_time(rpeaks, 700)\n",
    "                    hr.append(hrv_time['pyhrv hr'])\n",
    "                    rmssd.append(hrv_time['pyhrv rmssd'])        \n",
    "                    sdnn.append(hrv_time['pyhrv sdnn'])       \n",
    "                    nonlinear = pyhrv_nonlinear(rpeaks, 700)\n",
    "                    sdratio.append(nonlinear['sd1/sd2'])\n",
    "                    freqeuncy = pyhrv_welch(rpeaks, 700)\n",
    "                    frequency_ratio.append(pyhrv_welch(rpeaks, 700)['fft_ratio'])\n",
    "                except:\n",
    "                    pass\n",
    "                \n",
    "            result_dict[f'{label}_{sec}_{key}'] = {\n",
    "                'rmssd' : rmssd,\n",
    "                'sdnn' : sdnn,\n",
    "                'frequency_ratio' : frequency_ratio,\n",
    "                'sdratio' : sdratio\n",
    "            }\n"
   ]
  },
  {
   "cell_type": "code",
   "execution_count": 32,
   "id": "d319b1cf-be57-44e5-a3a2-2113a8f23928",
   "metadata": {},
   "outputs": [],
   "source": [
    "rr_dict = dict()\n",
    "\n",
    "for sec in [30, 20, 10]:\n",
    "    for key in [2,3,4,5,6,7,8,9,10,11,13,14,15,16,17]:\n",
    "        for h in ['rmssd', 'sdnn', 'frequency_ratio', 'sdratio']:\n",
    "            random.shuffle(result_dict[f'{1}_{sec}_{key}'][h])\n",
    "            random.shuffle(result_dict[f'{2}_{sec}_{key}'][h])\n",
    "            \n",
    "            ll = len(result_dict[f'{2}_{sec}_{key}'][h])\n",
    "            \n",
    "            diff = np.array(result_dict[f'{2}_{sec}_{key}'][h]) - np.array(result_dict[f'{1}_{sec}_{key}'][h][:ll])\n",
    "            \n",
    "            rr_dict[f'{sec}_{key}_{h}'] = diff"
   ]
  },
  {
   "cell_type": "code",
   "execution_count": 36,
   "id": "2c5a7f66-146c-45d9-85c2-e24115a77732",
   "metadata": {},
   "outputs": [
    {
     "data": {
      "text/plain": [
       "array([1, 2, 3, 1, 2, 3])"
      ]
     },
     "execution_count": 36,
     "metadata": {},
     "output_type": "execute_result"
    }
   ],
   "source": [
    "np.concatenate((np.array([1,2,3]), np.array([1,2,3])))"
   ]
  },
  {
   "cell_type": "code",
   "execution_count": 44,
   "id": "4ca77e36-0573-4405-9992-758491829567",
   "metadata": {},
   "outputs": [
    {
     "data": {
      "text/html": [
       "<div>\n",
       "<style scoped>\n",
       "    .dataframe tbody tr th:only-of-type {\n",
       "        vertical-align: middle;\n",
       "    }\n",
       "\n",
       "    .dataframe tbody tr th {\n",
       "        vertical-align: top;\n",
       "    }\n",
       "\n",
       "    .dataframe thead th {\n",
       "        text-align: right;\n",
       "    }\n",
       "</style>\n",
       "<table border=\"1\" class=\"dataframe\">\n",
       "  <thead>\n",
       "    <tr style=\"text-align: right;\">\n",
       "      <th></th>\n",
       "      <th>mean</th>\n",
       "      <th>std</th>\n",
       "    </tr>\n",
       "  </thead>\n",
       "  <tbody>\n",
       "    <tr>\n",
       "      <th>30_rmssd</th>\n",
       "      <td>-7.794584</td>\n",
       "      <td>44.496188</td>\n",
       "    </tr>\n",
       "    <tr>\n",
       "      <th>30_sdnn</th>\n",
       "      <td>-3.476639</td>\n",
       "      <td>40.250843</td>\n",
       "    </tr>\n",
       "    <tr>\n",
       "      <th>30_frequency_ratio</th>\n",
       "      <td>0.583435</td>\n",
       "      <td>4.115850</td>\n",
       "    </tr>\n",
       "    <tr>\n",
       "      <th>30_sdratio</th>\n",
       "      <td>-0.054556</td>\n",
       "      <td>0.223829</td>\n",
       "    </tr>\n",
       "    <tr>\n",
       "      <th>20_rmssd</th>\n",
       "      <td>-7.872198</td>\n",
       "      <td>46.161091</td>\n",
       "    </tr>\n",
       "    <tr>\n",
       "      <th>20_sdnn</th>\n",
       "      <td>-4.131407</td>\n",
       "      <td>40.635492</td>\n",
       "    </tr>\n",
       "    <tr>\n",
       "      <th>20_frequency_ratio</th>\n",
       "      <td>0.783209</td>\n",
       "      <td>4.962890</td>\n",
       "    </tr>\n",
       "    <tr>\n",
       "      <th>20_sdratio</th>\n",
       "      <td>-0.057154</td>\n",
       "      <td>0.231635</td>\n",
       "    </tr>\n",
       "    <tr>\n",
       "      <th>10_rmssd</th>\n",
       "      <td>-9.185832</td>\n",
       "      <td>48.372172</td>\n",
       "    </tr>\n",
       "    <tr>\n",
       "      <th>10_sdnn</th>\n",
       "      <td>-5.687723</td>\n",
       "      <td>41.290623</td>\n",
       "    </tr>\n",
       "    <tr>\n",
       "      <th>10_frequency_ratio</th>\n",
       "      <td>1.126811</td>\n",
       "      <td>7.356552</td>\n",
       "    </tr>\n",
       "    <tr>\n",
       "      <th>10_sdratio</th>\n",
       "      <td>-0.064801</td>\n",
       "      <td>0.243327</td>\n",
       "    </tr>\n",
       "  </tbody>\n",
       "</table>\n",
       "</div>"
      ],
      "text/plain": [
       "                        mean        std\n",
       "30_rmssd           -7.794584  44.496188\n",
       "30_sdnn            -3.476639  40.250843\n",
       "30_frequency_ratio  0.583435   4.115850\n",
       "30_sdratio         -0.054556   0.223829\n",
       "20_rmssd           -7.872198  46.161091\n",
       "20_sdnn            -4.131407  40.635492\n",
       "20_frequency_ratio  0.783209   4.962890\n",
       "20_sdratio         -0.057154   0.231635\n",
       "10_rmssd           -9.185832  48.372172\n",
       "10_sdnn            -5.687723  41.290623\n",
       "10_frequency_ratio  1.126811   7.356552\n",
       "10_sdratio         -0.064801   0.243327"
      ]
     },
     "execution_count": 44,
     "metadata": {},
     "output_type": "execute_result"
    }
   ],
   "source": [
    "rrr_dict = dict()\n",
    "for sec in [30, 20, 10]:\n",
    "    for h in ['rmssd', 'sdnn', 'frequency_ratio', 'sdratio']:\n",
    "        temp = np.array([])\n",
    "        for key in [2,3,4,5,6,7,8,9,10,11,13,14,15,16,17]:\n",
    "            temp = np.concatenate((temp, rr_dict[f'{sec}_{key}_{h}']))\n",
    "        rrr_dict[f'{sec}_{h}'] = {\n",
    "            'mean' : np.mean(temp),\n",
    "            'std' : np.std(temp)\n",
    "        }\n",
    "        \n",
    "pd.DataFrame(rrr_dict).T."
   ]
  }
 ],
 "metadata": {
  "kernelspec": {
   "display_name": "Python 3 (ipykernel)",
   "language": "python",
   "name": "python3"
  },
  "language_info": {
   "codemirror_mode": {
    "name": "ipython",
    "version": 3
   },
   "file_extension": ".py",
   "mimetype": "text/x-python",
   "name": "python",
   "nbconvert_exporter": "python",
   "pygments_lexer": "ipython3",
   "version": "3.8.13"
  }
 },
 "nbformat": 4,
 "nbformat_minor": 5
}
